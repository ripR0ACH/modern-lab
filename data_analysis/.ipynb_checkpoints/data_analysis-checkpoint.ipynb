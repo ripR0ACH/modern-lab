{
 "cells": [
  {
   "cell_type": "markdown",
   "metadata": {},
   "source": [
    "# Practice Data Analysis - part 1\n",
    "\n",
    "In order to start, I've imported the necessary Python packages and the data file I'll be using."
   ]
  },
  {
   "cell_type": "code",
   "execution_count": 11,
   "metadata": {},
   "outputs": [],
   "source": [
    "import matplotlib.pyplot as plt\n",
    "\n",
    "data = \"SampleData_Summer2023.dat\""
   ]
  },
  {
   "cell_type": "markdown",
   "metadata": {},
   "source": [
    "Next I defined some useful classes that I've made to handle the position data and have particle objects that can hold this data."
   ]
  },
  {
   "cell_type": "code",
   "execution_count": 13,
   "metadata": {},
   "outputs": [
    {
     "ename": "IndentationError",
     "evalue": "unindent does not match any outer indentation level (<tokenize>, line 7)",
     "output_type": "error",
     "traceback": [
      "\u001b[0;36m  File \u001b[0;32m<tokenize>:7\u001b[0;36m\u001b[0m\n\u001b[0;31m    def __str__(self) -> str:\u001b[0m\n\u001b[0m    ^\u001b[0m\n\u001b[0;31mIndentationError\u001b[0m\u001b[0;31m:\u001b[0m unindent does not match any outer indentation level\n"
     ]
    }
   ],
   "source": [
    "class Position:\n",
    "    def __init__(self, time, x_position, y_position, z_position) -> None:\n",
    "        self.t = time\n",
    "        self.x = x_position\n",
    "        self.y = y_position\n",
    "        self.z = z_position\n",
    "    def __str__(self) -> str:\n",
    "        return \"(\" + ', '.join(str(v) for v in vars(self).values()) + \")\"\n",
    "\n",
    "class Particle:\n",
    "\tdef __init__(self) -> None:\n",
    "\t\tself.pos = []\n",
    "\n",
    "\tdef add_pos(self, position) -> None:\n",
    "\t\tself.pos.append(position)"
   ]
  },
  {
   "cell_type": "markdown",
   "metadata": {},
   "source": [
    "Below I open the data file using the `with open` function. Next I turn each line of the file into an array and comprehend each line to be split into their six respective Particle objects (`objs`). Lastly, I plot all of the x values of the first three particles vs. their times. The figure can be seen below this code block:"
   ]
  },
  {
   "cell_type": "code",
   "execution_count": null,
   "metadata": {},
   "outputs": [],
   "source": [
    "with open(data, \"r\") as f:\n",
    "\tobjs = [Particle() for i in range(6)]\n",
    "\tfor line in f:\n",
    "\t\tline = [float(i) for i in line.split()]\n",
    "\t\tfor i in range(6):\n",
    "\t\t\tobjs[i].add_pos(Position(line[0], line[(3 * i) + 1],\n",
    "\t\t\t                line[(3 * i) + 2], line[(3 * i) + 3]))\n",
    "\tfig, ax = plt.subplots(1, 1)\n",
    "\tfor obj in objs[:3]:\n",
    "\t\tt = []\n",
    "\t\tx = []\n",
    "\t\tfor i in obj.pos:\n",
    "\t\t\tt.append(i.t)\n",
    "\t\t\tx.append(i.x)\n",
    "\t\tax.plot(t, x)\n",
    "\t\tax.set_xlabel(\"time\")\n",
    "\t\tax.set_ylabel(\"x position\")\n",
    "\t\tax.set_title(\"Particle x position vs. time\")\n",
    "\tplt.show()"
   ]
  },
  {
   "cell_type": "code",
   "execution_count": null,
   "metadata": {},
   "outputs": [],
   "source": []
  }
 ],
 "metadata": {
  "kernelspec": {
   "display_name": "Python 3 (ipykernel)",
   "language": "python",
   "name": "python3"
  },
  "language_info": {
   "codemirror_mode": {
    "name": "ipython",
    "version": 3
   },
   "file_extension": ".py",
   "mimetype": "text/x-python",
   "name": "python",
   "nbconvert_exporter": "python",
   "pygments_lexer": "ipython3",
   "version": "3.9.2"
  }
 },
 "nbformat": 4,
 "nbformat_minor": 4
}
